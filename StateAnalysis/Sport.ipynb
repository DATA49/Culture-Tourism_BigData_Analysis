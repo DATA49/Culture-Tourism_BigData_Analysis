{
  "nbformat": 4,
  "nbformat_minor": 0,
  "metadata": {
    "colab": {
      "name": "DATA49_뉴 노멀 시대, 스포츠 수요와 신산업_현황분석코드.ipynb",
      "provenance": [],
      "collapsed_sections": []
    },
    "kernelspec": {
      "name": "python3",
      "display_name": "Python 3"
    },
    "language_info": {
      "name": "python"
    }
  },
  "cells": [
    {
      "cell_type": "code",
      "metadata": {
        "colab": {
          "base_uri": "https://localhost:8080/"
        },
        "id": "qo9ZxLtrgGVv",
        "outputId": "11413de8-8cca-407f-c471-cca66a18a57f"
      },
      "source": [
        "# Google Drive 연동하기\n",
        "from google.colab import drive\n",
        "drive.mount('/content/drive')"
      ],
      "execution_count": null,
      "outputs": [
        {
          "output_type": "stream",
          "text": [
            "Mounted at /content/drive\n"
          ],
          "name": "stdout"
        }
      ]
    },
    {
      "cell_type": "code",
      "metadata": {
        "colab": {
          "base_uri": "https://localhost:8080/"
        },
        "id": "akfyNj8EhWOU",
        "outputId": "2534e437-d1fe-4499-9052-ae8d0146c6fb"
      },
      "source": [
        "#신한카드 Native_re.txt, .csv파일로 변환하기\n",
        "import pandas as pd\n",
        "\n",
        "pd.set_option('display.max_columns', None)\n",
        "df = pd.read_csv(\"/content/drive/Shareddrives/2021 여름방학 프로젝트/데이터/NATIVE_RE.txt\", delimiter='|')\n",
        "print(df)"
      ],
      "execution_count": null,
      "outputs": [
        {
          "output_type": "stream",
          "text": [
            "/usr/local/lib/python3.7/dist-packages/IPython/core/interactiveshell.py:2718: DtypeWarning: Columns (6) have mixed types.Specify dtype option on import or set low_memory=False.\n",
            "  interactivity=interactivity, compiler=compiler, result=result)\n"
          ],
          "name": "stderr"
        },
        {
          "output_type": "stream",
          "text": [
            "          v1  v2    v3     gb3   gb2 sex_ccd cln_age_r   ta_ym daw_ccd_r  \\\n",
            "0         세종  세종     .    취미오락    외식       M        30  201701       RED   \n",
            "1         세종  세종     .    취미오락  종합쇼핑       M        50  201701       RED   \n",
            "2         세종  세종     .    취미오락  종합쇼핑       M        30  201701     WHITE   \n",
            "3         충남  세종     .    취미오락  종합쇼핑       M        50  201701     WHITE   \n",
            "4         충남  세종     .    취미오락  종합쇼핑       M        40  201701       RED   \n",
            "...       ..  ..   ...     ...   ...     ...       ...     ...       ...   \n",
            "52714749  울산  부산  해운대구    취미오락    유흥       F        50  202104     WHITE   \n",
            "52714750  경남  부산  해운대구      여행    체험       M        40  202012       RED   \n",
            "52714751  울산  부산  해운대구  문화예술활동  사진촬영       M        60  202104       RED   \n",
            "52714752  대전  부산  해운대구    취미오락  패션쇼핑       M        30  202103       RED   \n",
            "52714753  울산  부산  해운대구    취미오락    목욕       M        50  202011       RED   \n",
            "\n",
            "         apv_ts_dl_tm_r        vlm   usec  \n",
            "0                    활동  351296766  19010  \n",
            "1                    휴식   72244196   2375  \n",
            "2                    휴식  532911085  19979  \n",
            "3                    활동   50972534    951  \n",
            "4                    휴식   19104457    408  \n",
            "...                 ...        ...    ...  \n",
            "52714749             활동      65910     15  \n",
            "52714750             휴식      38325      5  \n",
            "52714751             활동     101400      5  \n",
            "52714752             활동      45720      5  \n",
            "52714753             활동     122640     15  \n",
            "\n",
            "[52714754 rows x 12 columns]\n"
          ],
          "name": "stdout"
        }
      ]
    },
    {
      "cell_type": "code",
      "metadata": {
        "colab": {
          "base_uri": "https://localhost:8080/"
        },
        "id": "Ois3jNi2hsBm",
        "outputId": "b1922696-1e7b-4a30-d8c1-a7bf2ffce3dc"
      },
      "source": [
        "# gb2 값 확인\n",
        "print(df['gb2'].unique())"
      ],
      "execution_count": null,
      "outputs": [
        {
          "output_type": "stream",
          "text": [
            "['외식' '종합쇼핑' '미용' '패션쇼핑' '스포츠용품구매' '레저스포츠' '숙박' '목욕' '유흥' '교육훈련' '독서'\n",
            " '인터넷게임' '교통' '애완동물돌보기' '관광쇼핑' '골프' '사진촬영' '공연관람' '자전거' '여행사' '헬스' '체험'\n",
            " '종교활동' '음악감상' '미술공예참여' '악기연주' '스키' '운동경기관람']\n"
          ],
          "name": "stdout"
        }
      ]
    },
    {
      "cell_type": "code",
      "metadata": {
        "id": "tG3CCS_ciKZL"
      },
      "source": [
        "# gb2에서 sport와 관련있다고 생각되는 '스포츠용품구매' '레저스포츠' '골프' '자전거' '헬스' '스키' '운동경기관람' 제외하고 삭제\n",
        "idx1 = df[df[\"gb2\"] == \"종합쇼핑\"].index\n",
        "df = df.drop(idx1)\n",
        "idx1 = df[df[\"gb2\"] == \"외식\"].index\n",
        "df = df.drop(idx1)\n",
        "idx1 = df[df[\"gb2\"] == \"미용\"].index\n",
        "df = df.drop(idx1)\n",
        "idx1 = df[df[\"gb2\"] == \"패션쇼핑\"].index\n",
        "df = df.drop(idx1)\n",
        "idx1 = df[df[\"gb2\"] == \"목욕\"].index\n",
        "df = df.drop(idx1)\n",
        "idx1 = df[df[\"gb2\"] == \"유흥\"].index\n",
        "df = df.drop(idx1)\n",
        "idx1 = df[df[\"gb2\"] == \"교육훈련\"].index\n",
        "df = df.drop(idx1)\n",
        "idx1 = df[df[\"gb2\"] == \"독서\"].index\n",
        "df = df.drop(idx1)\n",
        "idx1 = df[df[\"gb2\"] == \"인터넷게임\"].index\n",
        "df = df.drop(idx1)\n",
        "idx1 = df[df[\"gb2\"] == \"교통\"].index\n",
        "df = df.drop(idx1)\n",
        "idx1 = df[df[\"gb2\"] == \"애완동물돌보기\"].index\n",
        "df = df.drop(idx1)\n",
        "idx1 = df[df[\"gb2\"] == \"사진촬영\"].index\n",
        "df = df.drop(idx1)\n",
        "idx1 = df[df[\"gb2\"] == \"여행사\"].index\n",
        "df = df.drop(idx1)\n",
        "idx1 = df[df[\"gb2\"] == \"종교활동\"].index\n",
        "df = df.drop(idx1)\n",
        "idx1 = df[df[\"gb2\"] == \"악기연주\"].index\n",
        "df = df.drop(idx1)\n",
        "idx1 = df[df[\"gb2\"] == \"숙박\"].index\n",
        "df = df.drop(idx1)\n",
        "idx1 = df[df[\"gb2\"] == \"공연관람\"].index\n",
        "df = df.drop(idx1)\n",
        "idx1 = df[df[\"gb2\"] == \"체험\"].index\n",
        "df = df.drop(idx1)\n",
        "idx1 = df[df[\"gb2\"] == \"음악감상\"].index\n",
        "df = df.drop(idx1)\n",
        "idx1 = df[df[\"gb2\"] == \"미술공예참여\"].index\n",
        "df = df.drop(idx1)\n",
        "idx1 = df[df[\"gb2\"] == \"관광쇼핑\"].index\n",
        "df = df.drop(idx1)"
      ],
      "execution_count": null,
      "outputs": []
    },
    {
      "cell_type": "code",
      "metadata": {
        "colab": {
          "base_uri": "https://localhost:8080/"
        },
        "id": "7sIBEBMqif9g",
        "outputId": "25295f5c-84f6-4067-ff4f-631f569c434a"
      },
      "source": [
        "# gb2 값 확인\n",
        "print(df['gb2'].unique())"
      ],
      "execution_count": null,
      "outputs": [
        {
          "output_type": "stream",
          "text": [
            "['스포츠용품구매' '레저스포츠' '골프' '자전거' '헬스' '스키' '운동경기관람']\n"
          ],
          "name": "stdout"
        }
      ]
    },
    {
      "cell_type": "code",
      "metadata": {
        "colab": {
          "base_uri": "https://localhost:8080/"
        },
        "id": "JhgM9Yfeii2I",
        "outputId": "7b142ba9-768b-4024-b232-fe506eb4afbf"
      },
      "source": [
        "# ta_ym 값 확인\n",
        "print(df['ta_ym'].unique())"
      ],
      "execution_count": null,
      "outputs": [
        {
          "output_type": "stream",
          "text": [
            "[201701 201702 201703 201704 201705 201706 201707 201708 201709 201710\n",
            " 201711 201712 201801 201802 201803 201804 201805 201806 201807 201808\n",
            " 201809 201810 201811 201812 201901 201902 201903 201904 201905 201906\n",
            " 201907 201908 201909 201910 201911 201912 202001 202002 202003 202004\n",
            " 202005 202006 202007 202102 202009 202008 202012 202010 202105 202104\n",
            " 202011 202103 202101]\n"
          ],
          "name": "stdout"
        }
      ]
    },
    {
      "cell_type": "code",
      "metadata": {
        "colab": {
          "base_uri": "https://localhost:8080/"
        },
        "id": "J0dlEfmIiuYH",
        "outputId": "84805a83-5f99-4918-89ef-c7a0a993985c"
      },
      "source": [
        "# 2017년 1월부터 12월까지 매달 스포츠 관련 결제 건수\n",
        "d17 = df.loc[df['ta_ym']//100==2017]\n",
        "d_201701 = d17.loc[df['ta_ym']%100==1]\n",
        "d_201702 = d17.loc[df['ta_ym']%100==2]\n",
        "d_201703 = d17.loc[df['ta_ym']%100==3]\n",
        "d_201704 = d17.loc[df['ta_ym']%100==4]\n",
        "d_201705 = d17.loc[df['ta_ym']%100==5]\n",
        "d_201706 = d17.loc[df['ta_ym']%100==6]\n",
        "d_201707 = d17.loc[df['ta_ym']%100==7]\n",
        "d_201708 = d17.loc[df['ta_ym']%100==8]\n",
        "d_201709 = d17.loc[df['ta_ym']%100==9]\n",
        "d_201710 = d17.loc[df['ta_ym']%100==10]\n",
        "d_201711 = d17.loc[df['ta_ym']%100==11]\n",
        "d_201712 = d17.loc[df['ta_ym']%100==12]\n",
        "print(len(d17))\n",
        "print(len(d_201701),len(d_201702),len(d_201703),\n",
        "      len(d_201704),len(d_201705),len(d_201706),\n",
        "      len(d_201707),len(d_201708),len(d_201709),\n",
        "      len(d_201710),len(d_201711),len(d_201712))"
      ],
      "execution_count": null,
      "outputs": [
        {
          "output_type": "stream",
          "text": [
            "1821876\n",
            "134665 130786 144921 155813 166316 159745 162406 163037 154452 165512 144874 139349\n"
          ],
          "name": "stdout"
        }
      ]
    },
    {
      "cell_type": "code",
      "metadata": {
        "colab": {
          "base_uri": "https://localhost:8080/"
        },
        "id": "j05XoyyRkkyl",
        "outputId": "f3f69fbf-2322-430f-cfba-04e4abed676a"
      },
      "source": [
        "# 2018년 1월부터 12월까지 매달 스포츠 관련 결제 건수\n",
        "d18 = df.loc[df['ta_ym']//100==2018]\n",
        "d_201801 = d18.loc[df['ta_ym']%100==1]\n",
        "d_201802 = d18.loc[df['ta_ym']%100==2]\n",
        "d_201803 = d18.loc[df['ta_ym']%100==3]\n",
        "d_201804 = d18.loc[df['ta_ym']%100==4]\n",
        "d_201805 = d18.loc[df['ta_ym']%100==5]\n",
        "d_201806 = d18.loc[df['ta_ym']%100==6]\n",
        "d_201807 = d18.loc[df['ta_ym']%100==7]\n",
        "d_201808 = d18.loc[df['ta_ym']%100==8]\n",
        "d_201809 = d18.loc[df['ta_ym']%100==9]\n",
        "d_201810 = d18.loc[df['ta_ym']%100==10]\n",
        "d_201811 = d18.loc[df['ta_ym']%100==11]\n",
        "d_201812 = d18.loc[df['ta_ym']%100==12]\n",
        "print(len(d18))\n",
        "print(len(d_201801),len(d_201802),len(d_201803),\n",
        "      len(d_201804),len(d_201805),len(d_201806),\n",
        "      len(d_201807),len(d_201808),len(d_201809),\n",
        "      len(d_201810),len(d_201811),len(d_201812))"
      ],
      "execution_count": null,
      "outputs": [
        {
          "output_type": "stream",
          "text": [
            "1804721\n",
            "131412 133359 147369 152090 162389 158838 160230 158861 161246 154857 144739 139331\n"
          ],
          "name": "stdout"
        }
      ]
    },
    {
      "cell_type": "code",
      "metadata": {
        "colab": {
          "base_uri": "https://localhost:8080/"
        },
        "id": "0DXwFp00lik1",
        "outputId": "ac0c8543-c5a9-4c60-e736-b12a53fff947"
      },
      "source": [
        "# 2019년 1월부터 12월까지 매달 스포츠 관련 결제 건수\n",
        "d19 = df.loc[df['ta_ym']//100==2019]\n",
        "d_201901 = d19.loc[df['ta_ym']%100==1]\n",
        "d_201902 = d19.loc[df['ta_ym']%100==2]\n",
        "d_201903 = d19.loc[df['ta_ym']%100==3]\n",
        "d_201904 = d19.loc[df['ta_ym']%100==4]\n",
        "d_201905 = d19.loc[df['ta_ym']%100==5]\n",
        "d_201906 = d19.loc[df['ta_ym']%100==6]\n",
        "d_201907 = d19.loc[df['ta_ym']%100==7]\n",
        "d_201908 = d19.loc[df['ta_ym']%100==8]\n",
        "d_201909 = d19.loc[df['ta_ym']%100==9]\n",
        "d_201910 = d19.loc[df['ta_ym']%100==10]\n",
        "d_201911 = d19.loc[df['ta_ym']%100==11]\n",
        "d_201912 = d19.loc[df['ta_ym']%100==12]\n",
        "print(len(d19))\n",
        "print(len(d_201901),len(d_201902),len(d_201903),\n",
        "      len(d_201904),len(d_201905),len(d_201906),\n",
        "      len(d_201907),len(d_201908),len(d_201909),\n",
        "      len(d_201910),len(d_201911),len(d_201912))"
      ],
      "execution_count": null,
      "outputs": [
        {
          "output_type": "stream",
          "text": [
            "1815893\n",
            "133701 139960 149619 149121 160945 159172 158059 166048 154609 156156 148227 140276\n"
          ],
          "name": "stdout"
        }
      ]
    },
    {
      "cell_type": "code",
      "metadata": {
        "colab": {
          "base_uri": "https://localhost:8080/"
        },
        "id": "frlcZH_lluPD",
        "outputId": "dc50e8a4-6862-4b31-8fad-accbb5b01d35"
      },
      "source": [
        "# 2020년 1월부터 12월까지 매달 스포츠 관련 결제 건수\n",
        "d20 = df.loc[df['ta_ym']//100==2020]\n",
        "d_202001 = d20.loc[df['ta_ym']%100==1]\n",
        "d_202002 = d20.loc[df['ta_ym']%100==2]\n",
        "d_202003 = d20.loc[df['ta_ym']%100==3]\n",
        "d_202004 = d20.loc[df['ta_ym']%100==4]\n",
        "d_202005 = d20.loc[df['ta_ym']%100==5]\n",
        "d_202006 = d20.loc[df['ta_ym']%100==6]\n",
        "d_202007 = d20.loc[df['ta_ym']%100==7]\n",
        "d_202008 = d20.loc[df['ta_ym']%100==8]\n",
        "d_202009 = d20.loc[df['ta_ym']%100==9]\n",
        "d_202010 = d20.loc[df['ta_ym']%100==10]\n",
        "d_202011 = d20.loc[df['ta_ym']%100==11]\n",
        "d_202012 = d20.loc[df['ta_ym']%100==12]\n",
        "print(len(d20))\n",
        "print(len(d_202001),len(d_202002),len(d_202003),\n",
        "      len(d_202004),len(d_202005),len(d_202006),\n",
        "      len(d_202007),len(d_202008),len(d_202009),\n",
        "      len(d_202010),len(d_202011),len(d_202012))"
      ],
      "execution_count": null,
      "outputs": [
        {
          "output_type": "stream",
          "text": [
            "1683613\n",
            "139664 123734 118471 133069 160307 152858 155747 157768 137671 159417 142608 102299\n"
          ],
          "name": "stdout"
        }
      ]
    },
    {
      "cell_type": "code",
      "metadata": {
        "colab": {
          "base_uri": "https://localhost:8080/"
        },
        "id": "hLMB29hPluTr",
        "outputId": "f5794760-c4e8-42c8-a137-fdfb31081c7a"
      },
      "source": [
        "# 2021년 1월부터 12월까지 매달 스포츠 관련 결제 건수\n",
        "d21 = df.loc[df['ta_ym']//100==2021]\n",
        "d_202101 = d21.loc[df['ta_ym']%100==1]\n",
        "d_202102 = d21.loc[df['ta_ym']%100==2]\n",
        "d_202103 = d21.loc[df['ta_ym']%100==3]\n",
        "d_202104 = d21.loc[df['ta_ym']%100==4]\n",
        "d_202105 = d21.loc[df['ta_ym']%100==5]\n",
        "print(len(d21))\n",
        "print(len(d_202101),len(d_202102),len(d_202103),len(d_202104),len(d_202105))"
      ],
      "execution_count": null,
      "outputs": [
        {
          "output_type": "stream",
          "text": [
            "653189\n",
            "98182 120426 136020 143027 155534\n"
          ],
          "name": "stdout"
        }
      ]
    },
    {
      "cell_type": "code",
      "metadata": {
        "colab": {
          "base_uri": "https://localhost:8080/",
          "height": 306
        },
        "id": "l3pDHEVomfoI",
        "outputId": "a7d0ec6c-a47f-4784-bf0c-54809f8ce50e"
      },
      "source": [
        "# 2017년부터 2020년까지 연도별 스포츠 관련 결제 건수\n",
        "import numpy as np\n",
        "import pandas as pd\n",
        "import matplotlib.pyplot as plt\n",
        "import seaborn as sns\n",
        "\n",
        "label = ['2017', '2018', '2019', '2020']\n",
        "value = [len(d17), len(d18), len(d19), len(d20)]\n",
        "index = np.arange(len(label))\n",
        "colors = sns.color_palette('Blues',len(label))\n",
        "# Basic Bar Chart\n",
        "\n",
        "plt.bar(index, value,color = colors)\n",
        "plt.title('2017~2020 Sports Culture/Tourism Status', fontsize=10)\n",
        "plt.xlabel('Year', fontsize=18)\n",
        "plt.ylabel('Count', fontsize=18)\n",
        "plt.ylim([1650000, 1850000])\n",
        "plt.xticks(index, label, fontsize=15)\n",
        "\n",
        "plt.show()"
      ],
      "execution_count": null,
      "outputs": [
        {
          "output_type": "display_data",
          "data": {
            "image/png": "[encoded data removed]",
            "text/plain": [
              "<Figure size 432x288 with 1 Axes>"
            ]
          },
          "metadata": {
            "tags": [],
            "needs_background": "light"
          }
        }
      ]
    },
    {
      "cell_type": "code",
      "metadata": {
        "colab": {
          "base_uri": "https://localhost:8080/",
          "height": 382
        },
        "id": "vckx_gNgnInl",
        "outputId": "6f6e32e3-30ab-4b3b-f686-bfe480642905"
      },
      "source": [
        "# 2017년 1월부터 2021년 5월까지 매달 스포츠 관련 결제 건수\n",
        "import numpy as np\n",
        "import pandas as pd\n",
        "import matplotlib.pyplot as plt\n",
        "import seaborn as sns\n",
        "\n",
        "label = ['2017/01','2017/02','2017/03','2017/04','2017/05','2017/06','2017/07','2017/08','2017/09','2017/10','2017/11','2017/12',\n",
        "'2018/01','2018/02','2018/03','2018/04','2018/05','2018/06','2018/07','2018/08','2018/09','2018/10','2018/11','2018/12',\n",
        "'2019/01','2019/02','2019/03','2019/04','2019/05','2019/06','2019/07','2019/08','2019/09','2019/10','2019/11','2019/12',\n",
        "'2020/01','2020/02','2020/03','2020/04','2020/05','2020/06','2020/07','2020/08','2020/09','2020/10','2020/11','2020/12',\n",
        "'2021/01','2021/02','2021/03','2021/04','2021/05' ]\n",
        "value = [len(d_201701),len(d_201702),len(d_201703),len(d_201704),len(d_201705),len(d_201706),len(d_201707),len(d_201708),len(d_201709),len(d_201710),len(d_201711),len(d_201712),\n",
        "         len(d_201801),len(d_201802),len(d_201803),len(d_201804),len(d_201805),len(d_201806),len(d_201807),len(d_201808),len(d_201809),len(d_201810),len(d_201811),len(d_201812),\n",
        "         len(d_201901),len(d_201902),len(d_201903),len(d_201904),len(d_201905),len(d_201906),len(d_201907),len(d_201908),len(d_201909),len(d_201910),len(d_201911),len(d_201912),\n",
        "         len(d_202001),len(d_202002),len(d_202003),len(d_202004),len(d_202005),len(d_202006),len(d_202007),len(d_202008),len(d_202009),len(d_202010),len(d_202011),len(d_202012),\n",
        "         len(d_202101),len(d_202102),len(d_202103),len(d_202104),len(d_202105)]\n",
        "plt.figure(figsize=(20, 5))\n",
        "plt.title('2017~2020 Sports ', fontsize=10)\n",
        "plt.xlabel('Month', fontsize=18)\n",
        "plt.ylabel('Count', fontsize=18)\n",
        "index = np.arange(len(label))\n",
        "plt.xticks(rotation=45)\n",
        "plt.grid(True)\n",
        "\n",
        "plt.plot(label, value)\n",
        "\n",
        "plt.show()"
      ],
      "execution_count": null,
      "outputs": [
        {
          "output_type": "display_data",
          "data": {
            "image/png": "[encoded data removed]",
            "text/plain": [
              "<Figure size 1440x360 with 1 Axes>"
            ]
          },
          "metadata": {
            "tags": [],
            "needs_background": "light"
          }
        }
      ]
    }
  ]
}
