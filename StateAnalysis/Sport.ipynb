{
  "nbformat": 4,
  "nbformat_minor": 0,
  "metadata": {
    "colab": {
      "name": "Sport.ipynb",
      "provenance": [],
      "collapsed_sections": []
    },
    "kernelspec": {
      "name": "python3",
      "display_name": "Python 3"
    },
    "language_info": {
      "name": "python"
    }
  },
  "cells": [
    {
      "cell_type": "code",
      "metadata": {
        "colab": {
          "base_uri": "https://localhost:8080/"
        },
        "id": "Le-wjBdFOpr2",
        "outputId": "6d66e1dc-0420-4f76-de9e-596374c502ef"
      },
      "source": [
        "from google.colab import drive\n",
        "drive.mount('/content/drive')"
      ],
      "execution_count": null,
      "outputs": [
        {
          "output_type": "stream",
          "text": [
            "Mounted at /content/drive\n"
          ],
          "name": "stdout"
        }
      ]
    },
    {
      "cell_type": "code",
      "metadata": {
        "colab": {
          "base_uri": "https://localhost:8080/"
        },
        "id": "oDfr0GI0O0nN",
        "outputId": "58b73142-e97c-46e6-ab26-06d84043becf"
      },
      "source": [
        "import pandas as pd\n",
        "\n",
        "pd.set_option('display.max_columns', None)\n",
        "df = pd.read_csv(\"/content/drive/MyDrive/NATIVE_RE.txt\", delimiter='|')\n",
        "print(df)"
      ],
      "execution_count": null,
      "outputs": [
        {
          "output_type": "stream",
          "text": [
            "/usr/local/lib/python3.7/dist-packages/IPython/core/interactiveshell.py:2718: DtypeWarning: Columns (6) have mixed types.Specify dtype option on import or set low_memory=False.\n",
            "  interactivity=interactivity, compiler=compiler, result=result)\n"
          ],
          "name": "stderr"
        },
        {
          "output_type": "stream",
          "text": [
            "          v1  v2    v3     gb3   gb2 sex_ccd cln_age_r   ta_ym daw_ccd_r  \\\n",
            "0         세종  세종     .    취미오락    외식       M        30  201701       RED   \n",
            "1         세종  세종     .    취미오락  종합쇼핑       M        50  201701       RED   \n",
            "2         세종  세종     .    취미오락  종합쇼핑       M        30  201701     WHITE   \n",
            "3         충남  세종     .    취미오락  종합쇼핑       M        50  201701     WHITE   \n",
            "4         충남  세종     .    취미오락  종합쇼핑       M        40  201701       RED   \n",
            "...       ..  ..   ...     ...   ...     ...       ...     ...       ...   \n",
            "52714749  울산  부산  해운대구    취미오락    유흥       F        50  202104     WHITE   \n",
            "52714750  경남  부산  해운대구      여행    체험       M        40  202012       RED   \n",
            "52714751  울산  부산  해운대구  문화예술활동  사진촬영       M        60  202104       RED   \n",
            "52714752  대전  부산  해운대구    취미오락  패션쇼핑       M        30  202103       RED   \n",
            "52714753  울산  부산  해운대구    취미오락    목욕       M        50  202011       RED   \n",
            "\n",
            "         apv_ts_dl_tm_r        vlm   usec  \n",
            "0                    활동  351296766  19010  \n",
            "1                    휴식   72244196   2375  \n",
            "2                    휴식  532911085  19979  \n",
            "3                    활동   50972534    951  \n",
            "4                    휴식   19104457    408  \n",
            "...                 ...        ...    ...  \n",
            "52714749             활동      65910     15  \n",
            "52714750             휴식      38325      5  \n",
            "52714751             활동     101400      5  \n",
            "52714752             활동      45720      5  \n",
            "52714753             활동     122640     15  \n",
            "\n",
            "[52714754 rows x 12 columns]\n"
          ],
          "name": "stdout"
        }
      ]
    },
    {
      "cell_type": "code",
      "metadata": {
        "id": "E4qdtXk2O6TW"
      },
      "source": [
        "# 사용: 레저스포츠, 골프,  자전거, 헬스, 스키, 운동경기관람, 스포츠용품구매\n",
        "# 삭제: 종합쇼핑, 외식, 미용, 패션쇼핑, 스포츠용품구매, 목욕, 유흥, 교육훈련, 독서, 인터넷게임, 교통, 애완동물돌보기, \n",
        "#       사진촬영, 여행사, 종교활동, 악기연주, 숙박, 공연관람, 체험, 음악감상, 미술공예참여\n",
        "idx1 = df[df[\"gb2\"] == \"종합쇼핑\"].index\n",
        "df = df.drop(idx1)\n",
        "idx1 = df[df[\"gb2\"] == \"외식\"].index\n",
        "df = df.drop(idx1)\n",
        "idx1 = df[df[\"gb2\"] == \"미용\"].index\n",
        "df = df.drop(idx1)\n",
        "idx1 = df[df[\"gb2\"] == \"패션쇼핑\"].index\n",
        "df = df.drop(idx1)\n",
        "idx1 = df[df[\"gb2\"] == \"목욕\"].index\n",
        "df = df.drop(idx1)\n",
        "idx1 = df[df[\"gb2\"] == \"유흥\"].index\n",
        "df = df.drop(idx1)\n",
        "idx1 = df[df[\"gb2\"] == \"교육훈련\"].index\n",
        "df = df.drop(idx1)\n",
        "idx1 = df[df[\"gb2\"] == \"독서\"].index\n",
        "df = df.drop(idx1)\n",
        "idx1 = df[df[\"gb2\"] == \"인터넷게임\"].index\n",
        "df = df.drop(idx1)\n",
        "idx1 = df[df[\"gb2\"] == \"교통\"].index\n",
        "df = df.drop(idx1)\n",
        "idx1 = df[df[\"gb2\"] == \"애완동물돌보기\"].index\n",
        "df = df.drop(idx1)\n",
        "idx1 = df[df[\"gb2\"] == \"사진촬영\"].index\n",
        "df = df.drop(idx1)\n",
        "idx1 = df[df[\"gb2\"] == \"여행사\"].index\n",
        "df = df.drop(idx1)\n",
        "idx1 = df[df[\"gb2\"] == \"종교활동\"].index\n",
        "df = df.drop(idx1)\n",
        "idx1 = df[df[\"gb2\"] == \"악기연주\"].index\n",
        "df = df.drop(idx1)\n",
        "idx1 = df[df[\"gb2\"] == \"숙박\"].index\n",
        "df = df.drop(idx1)\n",
        "idx1 = df[df[\"gb2\"] == \"공연관람\"].index\n",
        "df = df.drop(idx1)\n",
        "idx1 = df[df[\"gb2\"] == \"체험\"].index\n",
        "df = df.drop(idx1)\n",
        "idx1 = df[df[\"gb2\"] == \"음악감상\"].index\n",
        "df = df.drop(idx1)\n",
        "idx1 = df[df[\"gb2\"] == \"미술공예참여\"].index\n",
        "df = df.drop(idx1)"
      ],
      "execution_count": null,
      "outputs": []
    },
    {
      "cell_type": "code",
      "metadata": {
        "id": "KbE9v9lOQTpd"
      },
      "source": [
        "idx1 = df[df[\"gb2\"] == \"관광쇼핑\"].index\n",
        "df = df.drop(idx1)"
      ],
      "execution_count": null,
      "outputs": []
    },
    {
      "cell_type": "code",
      "metadata": {
        "colab": {
          "base_uri": "https://localhost:8080/"
        },
        "id": "-HhbKDNQPWFf",
        "outputId": "a4afb124-d387-44cd-c42a-8d40cb9baaf6"
      },
      "source": [
        "print(df['gb2'].unique())"
      ],
      "execution_count": null,
      "outputs": [
        {
          "output_type": "stream",
          "text": [
            "['스포츠용품구매' '레저스포츠' '골프' '자전거' '헬스' '스키' '운동경기관람']\n"
          ],
          "name": "stdout"
        }
      ]
    },
    {
      "cell_type": "code",
      "metadata": {
        "colab": {
          "base_uri": "https://localhost:8080/"
        },
        "id": "ZyFG233oPxxv",
        "outputId": "44b7fa44-b646-44d1-8899-0bce1a8511f5"
      },
      "source": [
        "# 대분류 확인\n",
        "print(df['ta_ym'].unique())"
      ],
      "execution_count": null,
      "outputs": [
        {
          "output_type": "stream",
          "text": [
            "[201701 201702 201703 201704 201705 201706 201707 201708 201709 201710\n",
            " 201711 201712 201801 201802 201803 201804 201805 201806 201807 201808\n",
            " 201809 201810 201811 201812 201901 201902 201903 201904 201905 201906\n",
            " 201907 201908 201909 201910 201911 201912 202001 202002 202003 202004\n",
            " 202005 202006 202007 202102 202009 202008 202012 202010 202105 202104\n",
            " 202011 202103 202101]\n"
          ],
          "name": "stdout"
        }
      ]
    },
    {
      "cell_type": "code",
      "metadata": {
        "colab": {
          "base_uri": "https://localhost:8080/"
        },
        "id": "fOqeAGE3PsNm",
        "outputId": "1c2c3e87-ce3a-42a2-866d-fbe944c1cef9"
      },
      "source": [
        "# 2017년 데이터\n",
        "d17 = df.loc[df['ta_ym']//100==2017 ]\n",
        "d17 = d17.loc[(d17['ta_ym']%100==3)|(d17['ta_ym']%100==4)|(d17['ta_ym']%100==5)|(d17['ta_ym']%100==6)|(d17['ta_ym']%100==7)|(d17['ta_ym']%100==8)|\n",
        "              (d17['ta_ym']%100==9)|(d17['ta_ym']%100==10)|(d17['ta_ym']%100==11)]\n",
        "d17_1 = d17.loc[(d17['ta_ym']%100==3)|(d17['ta_ym']%100==4)|(d17['ta_ym']%100==5)]\n",
        "d17_2 = d17.loc[(d17['ta_ym']%100==6)|(d17['ta_ym']%100==7)|(d17['ta_ym']%100==8)]\n",
        "d17_3 = d17.loc[(d17['ta_ym']%100==9)|(d17['ta_ym']%100==10)|(d17['ta_ym']%100==11)]\n",
        "\n",
        "print(d17['ta_ym'].unique())\n",
        "print(len(d17))\n",
        "print(len(d17_1))\n",
        "print(len(d17_2))\n",
        "print(len(d17_3))\n",
        "\n",
        "d17_shopping = d17.loc[d17[\"gb2\"] == \"스포츠용품구매\"]\n",
        "print(len(d17_shopping))\n",
        "\n",
        "d17_reisure = d17.loc[d17[\"gb2\"] == \"레저스포츠\"]\n",
        "print(len(d17_reisure))\n",
        "\n",
        "d17_golf = d17.loc[d17[\"gb2\"] == \"골프\"]\n",
        "print(len(d17_golf))\n",
        "\n",
        "d17_bike = d17.loc[d17[\"gb2\"] == \"자전거\"]\n",
        "print(len(d17_bike))\n",
        "\n",
        "d17_health = d17.loc[d17[\"gb2\"] == \"헬스\"]\n",
        "print(len(d17_health))\n",
        "\n",
        "d17_ski = d17.loc[d17[\"gb2\"] == \"스키\"]\n",
        "print(len(d17_ski))\n",
        "\n",
        "d17_watch = d17.loc[d17[\"gb2\"] == \"운동경기관람\"]\n",
        "print(len(d17_watch))"
      ],
      "execution_count": null,
      "outputs": [
        {
          "output_type": "stream",
          "text": [
            "[201703 201704 201705 201706 201707 201708 201709 201710 201711]\n",
            "1417076\n",
            "467050\n",
            "485188\n",
            "464838\n",
            "436802\n",
            "387693\n",
            "306081\n",
            "71682\n",
            "208686\n",
            "5110\n",
            "1022\n"
          ],
          "name": "stdout"
        }
      ]
    },
    {
      "cell_type": "code",
      "metadata": {
        "colab": {
          "base_uri": "https://localhost:8080/"
        },
        "id": "N9E_2wUitFe-",
        "outputId": "397af090-7b8c-43b7-c20f-f7bb8f931ad6"
      },
      "source": [
        "d_201701 = df.loc[(df['ta_ym']//100==2017) & (df['ta_ym']%100==1)]\n",
        "print(len(d_201701))\n",
        "d_201702 = df.loc[(df['ta_ym']//100==2017) & (df['ta_ym']%100==2)]\n",
        "print(len(d_201702))\n",
        "d_201703 = df.loc[(df['ta_ym']//100==2017) & (df['ta_ym']%100==3)]\n",
        "print(len(d_201703))\n",
        "d_201704 = df.loc[(df['ta_ym']//100==2017) & (df['ta_ym']%100==4)]\n",
        "print(len(d_201704))\n",
        "d_201705 = df.loc[(df['ta_ym']//100==2017) & (df['ta_ym']%100==5)]\n",
        "print(len(d_201705))\n",
        "d_201706 = df.loc[(df['ta_ym']//100==2017) & (df['ta_ym']%100==6)]\n",
        "print(len(d_201706))\n",
        "d_201707 = df.loc[(df['ta_ym']//100==2017) & (df['ta_ym']%100==7)]\n",
        "print(len(d_201707))\n",
        "d_201708 = df.loc[(df['ta_ym']//100==2017) & (df['ta_ym']%100==8)]\n",
        "print(len(d_201708))\n",
        "d_201709 = df.loc[(df['ta_ym']//100==2017) & (df['ta_ym']%100==9)]\n",
        "print(len(d_201709))\n",
        "d_201710 = df.loc[(df['ta_ym']//100==2017) & (df['ta_ym']%100==10)]\n",
        "print(len(d_201710))\n",
        "d_201711 = df.loc[(df['ta_ym']//100==2017) & (df['ta_ym']%100==11)]\n",
        "print(len(d_201711))\n",
        "d_201712 = df.loc[(df['ta_ym']//100==2017) & (df['ta_ym']%100==12)]\n",
        "print(len(d_201712))"
      ],
      "execution_count": null,
      "outputs": [
        {
          "output_type": "stream",
          "text": [
            "134665\n",
            "130786\n",
            "144921\n",
            "155813\n",
            "166316\n",
            "159745\n",
            "162406\n",
            "163037\n",
            "154452\n",
            "165512\n",
            "144874\n",
            "139349\n"
          ],
          "name": "stdout"
        }
      ]
    },
    {
      "cell_type": "code",
      "metadata": {
        "colab": {
          "base_uri": "https://localhost:8080/"
        },
        "id": "BrtIr5Q-ROnO",
        "outputId": "14230827-3b31-42bb-dbbb-ee33e8c6858f"
      },
      "source": [
        "# 2018년 데이터\n",
        "d18 = df.loc[df['ta_ym']//100==2018 ]\n",
        "d18 = d18.loc[(d18['ta_ym']%100==3)|(d18['ta_ym']%100==4)|(d18['ta_ym']%100==5)|(d18['ta_ym']%100==6)|(d18['ta_ym']%100==7)|(d18['ta_ym']%100==8)|\n",
        "              (d18['ta_ym']%100==9)|(d18['ta_ym']%100==10)|(d18['ta_ym']%100==11)]\n",
        "d18_1 = d18.loc[(d18['ta_ym']%100==3)|(d18['ta_ym']%100==4)|(d18['ta_ym']%100==5)]\n",
        "d18_2 = d18.loc[(d18['ta_ym']%100==6)|(d18['ta_ym']%100==7)|(d18['ta_ym']%100==8)]\n",
        "d18_3 = d18.loc[(d18['ta_ym']%100==9)|(d18['ta_ym']%100==10)|(d18['ta_ym']%100==11)]\n",
        "print(d18['ta_ym'].unique())\n",
        "print(len(d18))\n",
        "print(len(d18_1))\n",
        "print(len(d18_2))\n",
        "print(len(d18_3))\n",
        "\n",
        "d18_shopping = d18.loc[d18[\"gb2\"] == \"스포츠용품구매\"]\n",
        "print(len(d18_shopping))\n",
        "\n",
        "d18_reisure = d18.loc[d18[\"gb2\"] == \"레저스포츠\"]\n",
        "print(len(d18_reisure))\n",
        "\n",
        "d18_golf = d18.loc[d18[\"gb2\"] == \"골프\"]\n",
        "print(len(d18_golf))\n",
        "\n",
        "d18_bike = d18.loc[d18[\"gb2\"] == \"자전거\"]\n",
        "print(len(d18_bike))\n",
        "\n",
        "d18_health = d18.loc[d18[\"gb2\"] == \"헬스\"]\n",
        "print(len(d18_health))\n",
        "\n",
        "d18_ski = d18.loc[d18[\"gb2\"] == \"스키\"]\n",
        "print(len(d18_ski))\n",
        "\n",
        "d18_watch = d18.loc[d18[\"gb2\"] == \"운동경기관람\"]\n",
        "print(len(d18_watch))"
      ],
      "execution_count": null,
      "outputs": [
        {
          "output_type": "stream",
          "text": [
            "[201803 201804 201805 201806 201807 201808 201809 201810 201811]\n",
            "1400619\n",
            "461848\n",
            "477929\n",
            "460842\n",
            "424212\n",
            "391250\n",
            "301208\n",
            "66390\n",
            "211868\n",
            "4928\n",
            "763\n"
          ],
          "name": "stdout"
        }
      ]
    },
    {
      "cell_type": "code",
      "metadata": {
        "colab": {
          "base_uri": "https://localhost:8080/"
        },
        "id": "AagfyFmAulTZ",
        "outputId": "0bf57f19-e574-4b06-f4b1-f431a6e947c9"
      },
      "source": [
        "d_201801 = df.loc[(df['ta_ym']//100==2018) & (df['ta_ym']%100==1)]\n",
        "print(len(d_201801))\n",
        "d_201802 = df.loc[(df['ta_ym']//100==2018) & (df['ta_ym']%100==2)]\n",
        "print(len(d_201802))\n",
        "d_201803 = df.loc[(df['ta_ym']//100==2018) & (df['ta_ym']%100==3)]\n",
        "print(len(d_201803))\n",
        "d_201804 = df.loc[(df['ta_ym']//100==2018) & (df['ta_ym']%100==4)]\n",
        "print(len(d_201804))\n",
        "d_201805 = df.loc[(df['ta_ym']//100==2018) & (df['ta_ym']%100==5)]\n",
        "print(len(d_201805))\n",
        "d_201806 = df.loc[(df['ta_ym']//100==2018) & (df['ta_ym']%100==6)]\n",
        "print(len(d_201806))\n",
        "d_201807 = df.loc[(df['ta_ym']//100==2018) & (df['ta_ym']%100==7)]\n",
        "print(len(d_201807))\n",
        "d_201808 = df.loc[(df['ta_ym']//100==2018) & (df['ta_ym']%100==8)]\n",
        "print(len(d_201808))\n",
        "d_201809 = df.loc[(df['ta_ym']//100==2018) & (df['ta_ym']%100==9)]\n",
        "print(len(d_201809))\n",
        "d_201810 = df.loc[(df['ta_ym']//100==2018) & (df['ta_ym']%100==10)]\n",
        "print(len(d_201810))\n",
        "d_201811 = df.loc[(df['ta_ym']//100==2018) & (df['ta_ym']%100==11)]\n",
        "print(len(d_201811))\n",
        "d_201812 = df.loc[(df['ta_ym']//100==2018) & (df['ta_ym']%100==12)]\n",
        "print(len(d_201812))"
      ],
      "execution_count": null,
      "outputs": [
        {
          "output_type": "stream",
          "text": [
            "131412\n",
            "133359\n",
            "147369\n",
            "152090\n",
            "162389\n",
            "158838\n",
            "160230\n",
            "158861\n",
            "161246\n",
            "154857\n",
            "144739\n",
            "139331\n"
          ],
          "name": "stdout"
        }
      ]
    },
    {
      "cell_type": "code",
      "metadata": {
        "colab": {
          "base_uri": "https://localhost:8080/"
        },
        "id": "9LQovcJgR1QG",
        "outputId": "d1bbb398-4f3e-4162-d8af-68fea31c2e08"
      },
      "source": [
        "# 2019년 데이터\n",
        "d19 = df.loc[df['ta_ym']//100==2019 ]\n",
        "d19 = d19.loc[(d19['ta_ym']%100==3)|(d19['ta_ym']%100==4)|(d19['ta_ym']%100==5)|(d19['ta_ym']%100==6)|(d19['ta_ym']%100==7)|(d19['ta_ym']%100==8)|\n",
        "              (d19['ta_ym']%100==9)|(d19['ta_ym']%100==10)|(d19['ta_ym']%100==11)]\n",
        "d19_1 = d19.loc[(d19['ta_ym']%100==3)|(d19['ta_ym']%100==4)|(d19['ta_ym']%100==5)]\n",
        "d19_2 = d19.loc[(d19['ta_ym']%100==6)|(d19['ta_ym']%100==7)|(d19['ta_ym']%100==8)]\n",
        "d19_3 = d19.loc[(d19['ta_ym']%100==9)|(d19['ta_ym']%100==10)|(d19['ta_ym']%100==11)]\n",
        "print(d19['ta_ym'].unique())\n",
        "print(len(d19))\n",
        "print(len(d19_1))\n",
        "print(len(d19_2))\n",
        "print(len(d19_3))\n",
        "\n",
        "d19_shopping = d19.loc[d19[\"gb2\"] == \"스포츠용품구매\"]\n",
        "print(len(d19_shopping))\n",
        "\n",
        "d19_reisure = d19.loc[d19[\"gb2\"] == \"레저스포츠\"]\n",
        "print(len(d19_reisure))\n",
        "\n",
        "d19_golf = d19.loc[d19[\"gb2\"] == \"골프\"]\n",
        "print(len(d19_golf))\n",
        "\n",
        "d19_bike = d19.loc[d19[\"gb2\"] == \"자전거\"]\n",
        "print(len(d19_bike))\n",
        "\n",
        "d19_health = d19.loc[d19[\"gb2\"] == \"헬스\"]\n",
        "print(len(d17_health))\n",
        "\n",
        "d19_ski = d19.loc[d19[\"gb2\"] == \"스키\"]\n",
        "print(len(d19_ski))\n",
        "\n",
        "d19_watch = d19.loc[d19[\"gb2\"] == \"운동경기관람\"]\n",
        "print(len(d19_watch))"
      ],
      "execution_count": null,
      "outputs": [
        {
          "output_type": "stream",
          "text": [
            "[201903 201904 201905 201906 201907 201908 201909 201910 201911]\n",
            "1401956\n",
            "459685\n",
            "483279\n",
            "458992\n",
            "409747\n",
            "387832\n",
            "312370\n",
            "64498\n",
            "208686\n",
            "4857\n",
            "666\n"
          ],
          "name": "stdout"
        }
      ]
    },
    {
      "cell_type": "code",
      "metadata": {
        "colab": {
          "base_uri": "https://localhost:8080/"
        },
        "id": "lUjaLjzzvNwN",
        "outputId": "8f5a1cee-47ce-4dbe-f8a2-ff515e7cfcfc"
      },
      "source": [
        "d_201901 = df.loc[(df['ta_ym']//100==2019) & (df['ta_ym']%100==1)]\n",
        "print(len(d_201901))\n",
        "d_201902 = df.loc[(df['ta_ym']//100==2019) & (df['ta_ym']%100==2)]\n",
        "print(len(d_201902))\n",
        "d_201903 = df.loc[(df['ta_ym']//100==2019) & (df['ta_ym']%100==3)]\n",
        "print(len(d_201903))\n",
        "d_201904 = df.loc[(df['ta_ym']//100==2019) & (df['ta_ym']%100==4)]\n",
        "print(len(d_201904))\n",
        "d_201905 = df.loc[(df['ta_ym']//100==2019) & (df['ta_ym']%100==5)]\n",
        "print(len(d_201905))\n",
        "d_201906 = df.loc[(df['ta_ym']//100==2019) & (df['ta_ym']%100==6)]\n",
        "print(len(d_201906))\n",
        "d_201907 = df.loc[(df['ta_ym']//100==2019) & (df['ta_ym']%100==7)]\n",
        "print(len(d_201907))\n",
        "d_201908 = df.loc[(df['ta_ym']//100==2019) & (df['ta_ym']%100==8)]\n",
        "print(len(d_201908))\n",
        "d_201909 = df.loc[(df['ta_ym']//100==2019) & (df['ta_ym']%100==9)]\n",
        "print(len(d_201909))\n",
        "d_201910 = df.loc[(df['ta_ym']//100==2019) & (df['ta_ym']%100==10)]\n",
        "print(len(d_201910))\n",
        "d_201911 = df.loc[(df['ta_ym']//100==2019) & (df['ta_ym']%100==11)]\n",
        "print(len(d_201911))\n",
        "d_201912 = df.loc[(df['ta_ym']//100==2019) & (df['ta_ym']%100==12)]\n",
        "print(len(d_201912))"
      ],
      "execution_count": null,
      "outputs": [
        {
          "output_type": "stream",
          "text": [
            "133701\n",
            "139960\n",
            "149619\n",
            "149121\n",
            "160945\n",
            "159172\n",
            "158059\n",
            "166048\n",
            "154609\n",
            "156156\n",
            "148227\n",
            "140276\n"
          ],
          "name": "stdout"
        }
      ]
    },
    {
      "cell_type": "code",
      "metadata": {
        "colab": {
          "base_uri": "https://localhost:8080/"
        },
        "id": "F8wHV1ibSHBm",
        "outputId": "5213a1b1-ea19-4e48-d105-7419a95215b5"
      },
      "source": [
        "# 2020년 데이터\n",
        "d20 = df.loc[df['ta_ym']//100==2020 ]\n",
        "d20 = d20.loc[(d20['ta_ym']%100==3)|(d20['ta_ym']%100==4)|(d20['ta_ym']%100==5)|(d20['ta_ym']%100==6)|(d20['ta_ym']%100==7)|(d20['ta_ym']%100==8)|\n",
        "              (d20['ta_ym']%100==9)|(d20['ta_ym']%100==10)|(d20['ta_ym']%100==11)]\n",
        "d20_1 = d20.loc[(d20['ta_ym']%100==3)|(d20['ta_ym']%100==4)|(d20['ta_ym']%100==5)]\n",
        "d20_2 = d20.loc[(d20['ta_ym']%100==6)|(d20['ta_ym']%100==7)|(d20['ta_ym']%100==8)]\n",
        "d20_3 = d20.loc[(d20['ta_ym']%100==9)|(d20['ta_ym']%100==10)|(d20['ta_ym']%100==11)]              \n",
        "print(d20['ta_ym'].unique())\n",
        "print(len(d20))\n",
        "print(len(d20_1))\n",
        "print(len(d20_2))\n",
        "print(len(d20_3))\n",
        "\n",
        "d20_shopping = d20.loc[d20[\"gb2\"] == \"스포츠용품구매\"]\n",
        "print(len(d20_shopping))\n",
        "\n",
        "d20_reisure = d20.loc[d20[\"gb2\"] == \"레저스포츠\"]\n",
        "print(len(d20_reisure))\n",
        "\n",
        "d20_golf = d20.loc[d20[\"gb2\"] == \"골프\"]\n",
        "print(len(d20_golf))\n",
        "\n",
        "d20_bike = d20.loc[d20[\"gb2\"] == \"자전거\"]\n",
        "print(len(d20_bike))\n",
        "\n",
        "d20_health = d20.loc[d20[\"gb2\"] == \"헬스\"]\n",
        "print(len(d20_health))\n",
        "\n",
        "d20_ski = d20.loc[d20[\"gb2\"] == \"스키\"]\n",
        "print(len(d20_ski))\n",
        "\n",
        "d20_watch = d20.loc[d20[\"gb2\"] == \"운동경기관람\"]\n",
        "print(len(d20_watch))"
      ],
      "execution_count": null,
      "outputs": [
        {
          "output_type": "stream",
          "text": [
            "[202003 202004 202005 202006 202007 202009 202008 202010 202011]\n",
            "1317916\n",
            "411847\n",
            "466373\n",
            "439696\n",
            "387847\n",
            "330141\n",
            "330188\n",
            "69572\n",
            "196580\n",
            "3192\n",
            "396\n"
          ],
          "name": "stdout"
        }
      ]
    },
    {
      "cell_type": "code",
      "metadata": {
        "colab": {
          "base_uri": "https://localhost:8080/"
        },
        "id": "DUybc8TAvpwP",
        "outputId": "9d832369-9afa-4426-c229-2f0f4c8ca5dd"
      },
      "source": [
        "d_202001 = df.loc[(df['ta_ym']//100==2020) & (df['ta_ym']%100==1)]\n",
        "print(len(d_202001))\n",
        "d_202002 = df.loc[(df['ta_ym']//100==2020) & (df['ta_ym']%100==2)]\n",
        "print(len(d_202002))\n",
        "d_202003 = df.loc[(df['ta_ym']//100==2020) & (df['ta_ym']%100==3)]\n",
        "print(len(d_202003))\n",
        "d_202004 = df.loc[(df['ta_ym']//100==2020) & (df['ta_ym']%100==4)]\n",
        "print(len(d_202004))\n",
        "d_202005 = df.loc[(df['ta_ym']//100==2020) & (df['ta_ym']%100==5)]\n",
        "print(len(d_202005))\n",
        "d_202006 = df.loc[(df['ta_ym']//100==2020) & (df['ta_ym']%100==6)]\n",
        "print(len(d_202006))\n",
        "d_202007 = df.loc[(df['ta_ym']//100==2020) & (df['ta_ym']%100==7)]\n",
        "print(len(d_202007))\n",
        "d_202008 = df.loc[(df['ta_ym']//100==2020) & (df['ta_ym']%100==8)]\n",
        "print(len(d_202008))\n",
        "d_202009 = df.loc[(df['ta_ym']//100==2020) & (df['ta_ym']%100==9)]\n",
        "print(len(d_202009))\n",
        "d_202010 = df.loc[(df['ta_ym']//100==2020) & (df['ta_ym']%100==10)]\n",
        "print(len(d_202010))\n",
        "d_202011 = df.loc[(df['ta_ym']//100==2020) & (df['ta_ym']%100==11)]\n",
        "print(len(d_202011))\n",
        "d_202012 = df.loc[(df['ta_ym']//100==2020) & (df['ta_ym']%100==12)]\n",
        "print(len(d_202012))"
      ],
      "execution_count": null,
      "outputs": [
        {
          "output_type": "stream",
          "text": [
            "139664\n",
            "123734\n",
            "118471\n",
            "133069\n",
            "160307\n",
            "152858\n",
            "155747\n",
            "157768\n",
            "137671\n",
            "159417\n",
            "142608\n",
            "102299\n"
          ],
          "name": "stdout"
        }
      ]
    },
    {
      "cell_type": "code",
      "metadata": {
        "colab": {
          "base_uri": "https://localhost:8080/"
        },
        "id": "E0E9VrhLU2Bv",
        "outputId": "6a8f7064-2484-4427-d5e5-4ea720375320"
      },
      "source": [
        "# 2021년 데이터\n",
        "d21 = df.loc[df['ta_ym']//100==2021 ]\n",
        "d21 = d21.loc[(d21['ta_ym']%100==3)|(d21['ta_ym']%100==4)|(d21['ta_ym']%100==5)]         \n",
        "print(d21['ta_ym'].unique())\n",
        "print(len(d21))\n",
        "\n",
        "d21_golf = d21.loc[d21[\"gb2\"] == \"운동경기관람\"]\n",
        "print(len(d21_golf))"
      ],
      "execution_count": null,
      "outputs": [
        {
          "output_type": "stream",
          "text": [
            "[202105 202104 202103]\n",
            "434581\n",
            "139\n"
          ],
          "name": "stdout"
        }
      ]
    },
    {
      "cell_type": "code",
      "metadata": {
        "colab": {
          "base_uri": "https://localhost:8080/"
        },
        "id": "JGSV1QgQwLma",
        "outputId": "69fcbe45-ad5c-4f24-9f74-c604e4b51746"
      },
      "source": [
        "d_202101 = df.loc[(df['ta_ym']//100==2021) & (df['ta_ym']%100==1)]\n",
        "print(len(d_202101))\n",
        "d_202102 = df.loc[(df['ta_ym']//100==2021) & (df['ta_ym']%100==2)]\n",
        "print(len(d_202102))\n",
        "d_202103 = df.loc[(df['ta_ym']//100==2021) & (df['ta_ym']%100==3)]\n",
        "print(len(d_202103))\n",
        "d_202104 = df.loc[(df['ta_ym']//100==2021) & (df['ta_ym']%100==4)]\n",
        "print(len(d_202104))\n",
        "d_202105 = df.loc[(df['ta_ym']//100==2021) & (df['ta_ym']%100==5)]\n",
        "print(len(d_202105))"
      ],
      "execution_count": null,
      "outputs": [
        {
          "output_type": "stream",
          "text": [
            "98182\n",
            "120426\n",
            "136020\n",
            "143027\n",
            "155534\n"
          ],
          "name": "stdout"
        }
      ]
    },
    {
      "cell_type": "code",
      "metadata": {
        "colab": {
          "base_uri": "https://localhost:8080/",
          "height": 306
        },
        "id": "eJSWWszJUYGH",
        "outputId": "9aa11944-42c3-4e08-cecb-e8f0ad696055"
      },
      "source": [
        "# 연도별\n",
        "# importing packages\n",
        "import numpy as np\n",
        "import pandas as pd\n",
        "import matplotlib.pyplot as plt\n",
        "import seaborn as sns\n",
        "\n",
        "label = ['2017', '2018', '2019', '2020']\n",
        "value = [len(d17), len(d18), len(d19), len(d20)]\n",
        "index = np.arange(len(label))\n",
        "\n",
        "# Basic Bar Chart\n",
        "plt.bar(index, value)\n",
        "plt.title('2017~2020 Sports Culture/Tourism Status', fontsize=10)\n",
        "plt.xlabel('Year', fontsize=18)\n",
        "plt.ylabel('Count', fontsize=18)\n",
        "plt.ylim([1300000, 1450000])\n",
        "plt.xticks(index, label, fontsize=15)\n",
        "\n",
        "plt.show()"
      ],
      "execution_count": null,
      "outputs": [
        {
          "output_type": "display_data",
          "data": {
            "image/png": "[encoded data removed]",
            "text/plain": [
              "<Figure size 432x288 with 1 Axes>"
            ]
          },
          "metadata": {
            "tags": [],
            "needs_background": "light"
          }
        }
      ]
    },
    {
      "cell_type": "code",
      "metadata": {
        "colab": {
          "base_uri": "https://localhost:8080/",
          "height": 306
        },
        "id": "qCdtYkl1b6lX",
        "outputId": "43850276-df16-4b0f-ee36-5121eaecf663"
      },
      "source": [
        "# 스포츠 용품 구매\n",
        "label = ['2017', '2018', '2019', '2020']\n",
        "value = [len(d17_shopping), len(d18_shopping), len(d19_shopping), len(d20_shopping)]\n",
        "index = np.arange(len(label))\n",
        "\n",
        "# Basic Bar Chart\n",
        "plt.bar(index, value)\n",
        "plt.title('2017~2020 Sports Shopping Status', fontsize=10)\n",
        "plt.xlabel('Year', fontsize=18)\n",
        "plt.ylabel('Count', fontsize=18)\n",
        "plt.ylim([300000, 450000])\n",
        "plt.xticks(index, label, fontsize=15)\n",
        "\n",
        "plt.show()"
      ],
      "execution_count": null,
      "outputs": [
        {
          "output_type": "display_data",
          "data": {
            "image/png": "[encoded data removed]",
            "text/plain": [
              "<Figure size 432x288 with 1 Axes>"
            ]
          },
          "metadata": {
            "tags": [],
            "needs_background": "light"
          }
        }
      ]
    },
    {
      "cell_type": "code",
      "metadata": {
        "colab": {
          "base_uri": "https://localhost:8080/",
          "height": 306
        },
        "id": "ct5lc7QCcDzE",
        "outputId": "2e0f25b8-6c64-45ae-d281-d5cb2d60442c"
      },
      "source": [
        "# 레저스포츠\n",
        "label = ['2017', '2018', '2019', '2020']\n",
        "value = [len(d17_reisure), len(d18_reisure), len(d19_reisure), len(d20_reisure)]\n",
        "index = np.arange(len(label))\n",
        "\n",
        "# Basic Bar Chart\n",
        "plt.bar(index, value)\n",
        "plt.title('2017~2020 Reisure Status', fontsize=10)\n",
        "plt.xlabel('Year', fontsize=18)\n",
        "plt.ylabel('Count', fontsize=18)\n",
        "plt.ylim([300000, 400000])\n",
        "plt.xticks(index, label, fontsize=15)\n",
        "\n",
        "plt.show()"
      ],
      "execution_count": null,
      "outputs": [
        {
          "output_type": "display_data",
          "data": {
            "image/png": "[encoded data removed]",
            "text/plain": [
              "<Figure size 432x288 with 1 Axes>"
            ]
          },
          "metadata": {
            "tags": [],
            "needs_background": "light"
          }
        }
      ]
    },
    {
      "cell_type": "code",
      "metadata": {
        "colab": {
          "base_uri": "https://localhost:8080/",
          "height": 306
        },
        "id": "6_RvxOUlcTXd",
        "outputId": "2333f6b6-7dd3-4147-befe-46d5dfd38f65"
      },
      "source": [
        "# 골프\n",
        "label = ['2017', '2018', '2019', '2020']\n",
        "value = [len(d17_golf), len(d18_golf), len(d19_golf), len(d20_golf)]\n",
        "index = np.arange(len(label))\n",
        "\n",
        "# Basic Bar Chart\n",
        "plt.bar(index, value)\n",
        "plt.title('2017~2020 Golf Status', fontsize=10)\n",
        "plt.xlabel('Year', fontsize=18)\n",
        "plt.ylabel('Count', fontsize=18)\n",
        "plt.ylim([300000, 340000])\n",
        "plt.xticks(index, label, fontsize=15)\n",
        "\n",
        "plt.show()"
      ],
      "execution_count": null,
      "outputs": [
        {
          "output_type": "display_data",
          "data": {
            "image/png": "[encoded data removed]",
            "text/plain": [
              "<Figure size 432x288 with 1 Axes>"
            ]
          },
          "metadata": {
            "tags": [],
            "needs_background": "light"
          }
        }
      ]
    },
    {
      "cell_type": "code",
      "metadata": {
        "colab": {
          "base_uri": "https://localhost:8080/",
          "height": 306
        },
        "id": "fU-VZChHcear",
        "outputId": "0e6b72d7-a97a-4dab-bb19-1a825e478b68"
      },
      "source": [
        "# 자전거\n",
        "label = ['2017', '2018', '2019', '2020']\n",
        "value = [len(d17_bike), len(d18_bike), len(d19_bike), len(d20_bike)]\n",
        "index = np.arange(len(label))\n",
        "\n",
        "# Basic Bar Chart\n",
        "plt.bar(index, value)\n",
        "plt.title('2017~2020 Bike Status', fontsize=10)\n",
        "plt.xlabel('Year', fontsize=18)\n",
        "plt.ylabel('Count', fontsize=18)\n",
        "plt.ylim([60000, 75000])\n",
        "plt.xticks(index, label, fontsize=15)\n",
        "\n",
        "plt.show()"
      ],
      "execution_count": null,
      "outputs": [
        {
          "output_type": "display_data",
          "data": {
            "image/png": "[encoded data removed]",
            "text/plain": [
              "<Figure size 432x288 with 1 Axes>"
            ]
          },
          "metadata": {
            "tags": [],
            "needs_background": "light"
          }
        }
      ]
    },
    {
      "cell_type": "code",
      "metadata": {
        "colab": {
          "base_uri": "https://localhost:8080/",
          "height": 306
        },
        "id": "6GjMzyCRcpCY",
        "outputId": "2c3b1e45-19b4-4b09-981b-4c1b735424c4"
      },
      "source": [
        "# 헬스\n",
        "label = ['2017', '2018', '2019', '2020']\n",
        "value = [len(d17_health), len(d18_health), len(d19_health), len(d20_health)]\n",
        "index = np.arange(len(label))\n",
        "\n",
        "# Basic Bar Chart\n",
        "plt.bar(index, value)\n",
        "plt.title('2017~2020 Health Status', fontsize=10)\n",
        "plt.xlabel('Year', fontsize=18)\n",
        "plt.ylabel('Count', fontsize=18)\n",
        "plt.ylim([190000, 230000])\n",
        "plt.xticks(index, label, fontsize=15)\n",
        "\n",
        "plt.show()"
      ],
      "execution_count": null,
      "outputs": [
        {
          "output_type": "display_data",
          "data": {
            "image/png": "[encoded data removed]",
            "text/plain": [
              "<Figure size 432x288 with 1 Axes>"
            ]
          },
          "metadata": {
            "tags": [],
            "needs_background": "light"
          }
        }
      ]
    },
    {
      "cell_type": "code",
      "metadata": {
        "colab": {
          "base_uri": "https://localhost:8080/",
          "height": 306
        },
        "id": "9u8KFy7SdFGB",
        "outputId": "c2699ee9-9ef8-4ccd-b720-7379d5b32628"
      },
      "source": [
        "# 스키\n",
        "label = ['2017', '2018', '2019', '2020']\n",
        "value = [len(d17_ski), len(d18_ski), len(d19_ski), len(d20_ski)]\n",
        "index = np.arange(len(label))\n",
        "\n",
        "# Basic Bar Chart\n",
        "plt.bar(index, value)\n",
        "plt.title('2017~2020 Ski Status', fontsize=10)\n",
        "plt.xlabel('Year', fontsize=18)\n",
        "plt.ylabel('Count', fontsize=18)\n",
        "plt.ylim([3000, 5500])\n",
        "plt.xticks(index, label, fontsize=15)\n",
        "\n",
        "plt.show()"
      ],
      "execution_count": null,
      "outputs": [
        {
          "output_type": "display_data",
          "data": {
            "image/png": "[encoded data removed]",
            "text/plain": [
              "<Figure size 432x288 with 1 Axes>"
            ]
          },
          "metadata": {
            "tags": [],
            "needs_background": "light"
          }
        }
      ]
    },
    {
      "cell_type": "code",
      "metadata": {
        "colab": {
          "base_uri": "https://localhost:8080/",
          "height": 306
        },
        "id": "EAXQx7_ydRMr",
        "outputId": "199ef9f1-c7db-4e1a-a6d1-66ae481a5ac6"
      },
      "source": [
        "# 운동경기관람\n",
        "label = ['2017', '2018', '2019', '2020']\n",
        "value = [len(d17_watch), len(d18_watch), len(d19_watch), len(d20_watch)]\n",
        "index = np.arange(len(label))\n",
        "\n",
        "# Basic Bar Chart\n",
        "plt.bar(index, value)\n",
        "plt.title('2017~2020 Watching athletic events Status', fontsize=10)\n",
        "plt.xlabel('Year', fontsize=18)\n",
        "plt.ylabel('Count', fontsize=18)\n",
        "plt.ylim([200, 1200])\n",
        "plt.xticks(index, label, fontsize=15)\n",
        "\n",
        "plt.show()"
      ],
      "execution_count": null,
      "outputs": [
        {
          "output_type": "display_data",
          "data": {
            "image/png": "[encoded data removed]",
            "text/plain": [
              "<Figure size 432x288 with 1 Axes>"
            ]
          },
          "metadata": {
            "tags": [],
            "needs_background": "light"
          }
        }
      ]
    }
  ]
}
